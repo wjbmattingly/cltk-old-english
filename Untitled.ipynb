{
 "cells": [
  {
   "cell_type": "code",
   "execution_count": 1,
   "id": "d993d0cc-92a4-47d1-b0d8-b4710945151a",
   "metadata": {},
   "outputs": [],
   "source": [
    "import requests\n",
    "from bs4 import BeautifulSoup\n",
    "import pandas as pd"
   ]
  },
  {
   "cell_type": "code",
   "execution_count": 2,
   "id": "a98d5aa2-7ebc-4267-8db6-7a7927a87d34",
   "metadata": {},
   "outputs": [],
   "source": [
    "data = pd.read_html(\"https://tekeli.li/onomastikon/England-Saxon/Dithematic.html\")"
   ]
  },
  {
   "cell_type": "code",
   "execution_count": 3,
   "id": "0b80670d-876e-40ea-9868-50c042b4abfe",
   "metadata": {},
   "outputs": [
    {
     "data": {
      "text/html": [
       "<div>\n",
       "<style scoped>\n",
       "    .dataframe tbody tr th:only-of-type {\n",
       "        vertical-align: middle;\n",
       "    }\n",
       "\n",
       "    .dataframe tbody tr th {\n",
       "        vertical-align: top;\n",
       "    }\n",
       "\n",
       "    .dataframe thead th {\n",
       "        text-align: right;\n",
       "    }\n",
       "</style>\n",
       "<table border=\"1\" class=\"dataframe\">\n",
       "  <thead>\n",
       "    <tr style=\"text-align: right;\">\n",
       "      <th></th>\n",
       "      <th>0</th>\n",
       "      <th>1</th>\n",
       "      <th>2</th>\n",
       "    </tr>\n",
       "  </thead>\n",
       "  <tbody>\n",
       "    <tr>\n",
       "      <th>0</th>\n",
       "      <td>Adellufu</td>\n",
       "      <td>Adney</td>\n",
       "      <td>Aedilburh</td>\n",
       "    </tr>\n",
       "    <tr>\n",
       "      <th>1</th>\n",
       "      <td>Aegthryth</td>\n",
       "      <td>Aelfgifu</td>\n",
       "      <td>Aelfgyth</td>\n",
       "    </tr>\n",
       "    <tr>\n",
       "      <th>2</th>\n",
       "      <td>Aelflead</td>\n",
       "      <td>Aelfrun</td>\n",
       "      <td>Aelfthryth</td>\n",
       "    </tr>\n",
       "    <tr>\n",
       "      <th>3</th>\n",
       "      <td>Aelfwyn</td>\n",
       "      <td>Aelfwynn</td>\n",
       "      <td>Aelgifu</td>\n",
       "    </tr>\n",
       "    <tr>\n",
       "      <th>4</th>\n",
       "      <td>Aengifu</td>\n",
       "      <td>Aeschild</td>\n",
       "      <td>Aethelberga</td>\n",
       "    </tr>\n",
       "    <tr>\n",
       "      <th>...</th>\n",
       "      <td>...</td>\n",
       "      <td>...</td>\n",
       "      <td>...</td>\n",
       "    </tr>\n",
       "    <tr>\n",
       "      <th>112</th>\n",
       "      <td>Wulburg</td>\n",
       "      <td>Wulfgifu</td>\n",
       "      <td>Wulfhild</td>\n",
       "    </tr>\n",
       "    <tr>\n",
       "      <th>113</th>\n",
       "      <td>Wulflead</td>\n",
       "      <td>Wulfrun</td>\n",
       "      <td>Wulfthryth</td>\n",
       "    </tr>\n",
       "    <tr>\n",
       "      <th>114</th>\n",
       "      <td>Wulftrudis</td>\n",
       "      <td>Wulfwaru</td>\n",
       "      <td>Wulfwyn</td>\n",
       "    </tr>\n",
       "    <tr>\n",
       "      <th>115</th>\n",
       "      <td>Wulfwynn</td>\n",
       "      <td>Wychtleth</td>\n",
       "      <td>Wyneue</td>\n",
       "    </tr>\n",
       "    <tr>\n",
       "      <th>116</th>\n",
       "      <td>Wynflead</td>\n",
       "      <td>Wynyeue</td>\n",
       "      <td>Wyverun</td>\n",
       "    </tr>\n",
       "  </tbody>\n",
       "</table>\n",
       "<p>117 rows × 3 columns</p>\n",
       "</div>"
      ],
      "text/plain": [
       "              0          1            2\n",
       "0      Adellufu      Adney    Aedilburh\n",
       "1     Aegthryth   Aelfgifu     Aelfgyth\n",
       "2      Aelflead    Aelfrun   Aelfthryth\n",
       "3       Aelfwyn   Aelfwynn      Aelgifu\n",
       "4       Aengifu   Aeschild  Aethelberga\n",
       "..          ...        ...          ...\n",
       "112     Wulburg   Wulfgifu     Wulfhild\n",
       "113    Wulflead    Wulfrun   Wulfthryth\n",
       "114  Wulftrudis   Wulfwaru      Wulfwyn\n",
       "115    Wulfwynn  Wychtleth       Wyneue\n",
       "116    Wynflead    Wynyeue      Wyverun\n",
       "\n",
       "[117 rows x 3 columns]"
      ]
     },
     "execution_count": 3,
     "metadata": {},
     "output_type": "execute_result"
    }
   ],
   "source": [
    "data[2]"
   ]
  },
  {
   "cell_type": "code",
   "execution_count": 4,
   "id": "a37ab3f4-d9c0-4aa7-8d2a-55f96f556684",
   "metadata": {},
   "outputs": [],
   "source": [
    "male = data[1]\n",
    "malenames = male[0].tolist()+male[1].tolist()+male[2].tolist()\n",
    "\n",
    "female = data[2]\n",
    "femalenames = female[0].tolist()+female[1].tolist()+female[2].tolist()"
   ]
  },
  {
   "cell_type": "code",
   "execution_count": 6,
   "id": "573a59d7-4d0a-4bf2-a4bd-a0e18e4a0d41",
   "metadata": {},
   "outputs": [],
   "source": [
    "import spacy"
   ]
  },
  {
   "cell_type": "code",
   "execution_count": 7,
   "id": "b14ab7df-5027-4af0-80d7-18e12db65642",
   "metadata": {},
   "outputs": [],
   "source": [
    "nlp = spacy.blank(\"en\")"
   ]
  },
  {
   "cell_type": "code",
   "execution_count": 8,
   "id": "0e667dff-0c5a-4812-bcfc-d0774a986991",
   "metadata": {},
   "outputs": [],
   "source": [
    "ruler = nlp.add_pipe(\"entity_ruler\")"
   ]
  },
  {
   "cell_type": "code",
   "execution_count": 9,
   "id": "add3dbf1-b960-4cc1-a13d-3575aeefd3d0",
   "metadata": {},
   "outputs": [],
   "source": [
    "final = []\n",
    "for name in malenames:\n",
    "    final.append({\"pattern\": name, \"label\": \"PERSON\"})\n",
    "for name in femalenames:\n",
    "    final.append({\"pattern\": name, \"label\": \"PERSON\"})"
   ]
  },
  {
   "cell_type": "code",
   "execution_count": 11,
   "id": "8e81ec6b-a237-45f6-aeb4-ef1db5e1a71e",
   "metadata": {},
   "outputs": [],
   "source": [
    "ruler.add_patterns(final)"
   ]
  },
  {
   "cell_type": "code",
   "execution_count": null,
   "id": "45c80949-a52e-4962-8bc6-0757df008bc4",
   "metadata": {},
   "outputs": [],
   "source": [
    "text = \"Ae\""
   ]
  }
 ],
 "metadata": {
  "kernelspec": {
   "display_name": "Python 3 (ipykernel)",
   "language": "python",
   "name": "python3"
  },
  "language_info": {
   "codemirror_mode": {
    "name": "ipython",
    "version": 3
   },
   "file_extension": ".py",
   "mimetype": "text/x-python",
   "name": "python",
   "nbconvert_exporter": "python",
   "pygments_lexer": "ipython3",
   "version": "3.8.13"
  }
 },
 "nbformat": 4,
 "nbformat_minor": 5
}
